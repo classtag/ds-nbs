{
 "cells": [
  {
   "cell_type": "markdown",
   "metadata": {},
   "source": [
    "# Toxic comment classification from A to Z"
   ]
  },
  {
   "cell_type": "code",
   "execution_count": 1,
   "metadata": {
    "ExecuteTime": {
     "end_time": "2018-12-12T15:31:37.079360Z",
     "start_time": "2018-12-12T15:31:32.948192Z"
    }
   },
   "outputs": [
    {
     "name": "stderr",
     "output_type": "stream",
     "text": [
      "/opt/conda/lib/python3.6/site-packages/h5py/__init__.py:36: FutureWarning: Conversion of the second argument of issubdtype from `float` to `np.floating` is deprecated. In future, it will be treated as `np.float64 == np.dtype(float).type`.\n",
      "  from ._conv import register_converters as _register_converters\n",
      "Using TensorFlow backend.\n"
     ]
    }
   ],
   "source": [
    "import pandas as pd\n",
    "import numpy as np\n",
    "from tqdm import tqdm\n",
    "from keras.models import Sequential, Model\n",
    "from keras.layers import Input\n",
    "from keras.layers.recurrent import LSTM, GRU\n",
    "from keras.layers.core import Dense, Activation, Dropout\n",
    "from keras.layers.embeddings import Embedding\n",
    "from keras.layers.normalization import BatchNormalization\n",
    "from keras.layers import concatenate\n",
    "from keras.utils import np_utils\n",
    "from sklearn import preprocessing, decomposition, model_selection, metrics, pipeline\n",
    "from sklearn.model_selection import GridSearchCV\n",
    "from sklearn.model_selection import train_test_split, cross_val_score\n",
    "from sklearn.metrics import classification_report\n",
    "from sklearn.pipeline import make_union\n",
    "\n",
    "from keras.layers import GlobalAveragePooling1D, GlobalMaxPooling1D, Conv1D, MaxPooling1D, Flatten, Bidirectional, SpatialDropout1D\n",
    "from keras.preprocessing import sequence, text\n",
    "from keras.callbacks import Callback, EarlyStopping\n",
    "from nltk import word_tokenize"
   ]
  },
  {
   "cell_type": "code",
   "execution_count": 2,
   "metadata": {
    "ExecuteTime": {
     "end_time": "2018-12-12T15:31:56.069807Z",
     "start_time": "2018-12-12T15:31:53.840533Z"
    }
   },
   "outputs": [
    {
     "name": "stdout",
     "output_type": "stream",
     "text": [
      "trn shape 159571 rows, 8 cols\n",
      "tst shape 153164 rows, 2 cols\n"
     ]
    }
   ],
   "source": [
    "# read data to dataframe\n",
    "df_trn = pd.read_csv('../input/train.csv')\n",
    "df_tst = pd.read_csv('../input/test.csv')\n",
    "\n",
    "print('trn shape {} rows, {} cols'.format(*df_trn.shape))\n",
    "print('tst shape {} rows, {} cols'.format(*df_tst.shape))"
   ]
  },
  {
   "cell_type": "code",
   "execution_count": 4,
   "metadata": {
    "ExecuteTime": {
     "end_time": "2018-12-12T15:41:24.347242Z",
     "start_time": "2018-12-12T15:36:04.973676Z"
    }
   },
   "outputs": [
    {
     "name": "stdout",
     "output_type": "stream",
     "text": [
      "tokenizer.fit_on_texts\n",
      "tokenizer.texts_to_sequences(X_trn)\n",
      "tokenizer.texts_to_sequences(X_tst)\n",
      "sequence.pad_sequences(X_trn, maxlen=maxlen)\n",
      "sequence.pad_sequences(X_tst, maxlen=maxlen)\n",
      "map embedding index\n"
     ]
    },
    {
     "name": "stderr",
     "output_type": "stream",
     "text": [
      "100%|██████████| 394787/394787 [00:00<00:00, 519189.63it/s]\n"
     ]
    }
   ],
   "source": [
    "X_trn = df_trn[\"comment_text\"].fillna(\"fillna\").values\n",
    "y_trn = df_trn[[\n",
    "    \"toxic\", \"severe_toxic\", \"obscene\", \"threat\", \"insult\", \"identity_hate\"\n",
    "]].values\n",
    "X_tst = df_tst[\"comment_text\"].fillna(\" \").values\n",
    "\n",
    "max_features = 50000\n",
    "maxlen = 100\n",
    "embed_size = 300\n",
    "\n",
    "print('tokenizer.fit_on_texts')\n",
    "tokenizer = text.Tokenizer(num_words=max_features)\n",
    "tokenizer.fit_on_texts(list(X_trn) + list(X_tst))\n",
    "print('tokenizer.texts_to_sequences(X_trn)')\n",
    "X_trn = tokenizer.texts_to_sequences(X_trn)\n",
    "print('tokenizer.texts_to_sequences(X_tst)')\n",
    "X_tst = tokenizer.texts_to_sequences(X_tst)\n",
    "print('sequence.pad_sequences(X_trn, maxlen=maxlen)')\n",
    "x_trn = sequence.pad_sequences(X_trn, maxlen=maxlen)\n",
    "print('sequence.pad_sequences(X_tst, maxlen=maxlen)')\n",
    "x_tst = sequence.pad_sequences(X_tst, maxlen=maxlen)\n",
    "\n",
    "EMBEDDING_FILE = '../input/crawl-300d-2M.vec'\n",
    "def get_coefs(word, *arr):\n",
    "    return word, np.asarray(arr, dtype='float32')\n",
    "print('map embedding index')\n",
    "embeddings_index = dict(\n",
    "    get_coefs(*o.rstrip().rsplit(' ')) for o in open(EMBEDDING_FILE))\n",
    "\n",
    "word_index = tokenizer.word_index\n",
    "nb_words = min(max_features, len(word_index))\n",
    "embedding_matrix = np.zeros((nb_words, embed_size))\n",
    "for word, i in tqdm(word_index.items()):\n",
    "    if i >= max_features:\n",
    "        continue\n",
    "    embedding_vector = embeddings_index.get(word)\n",
    "    if embedding_vector is not None:\n",
    "        embedding_matrix[i] = embedding_vector"
   ]
  },
  {
   "cell_type": "code",
   "execution_count": null,
   "metadata": {},
   "outputs": [],
   "source": [
    "class RocAucEvaluation(Callback):\n",
    "    def __init__(self, validation_data=(), interval=1):\n",
    "        super(Callback, self).__init__()\n",
    "\n",
    "        self.interval = interval\n",
    "        self.X_val, self.y_val = validation_data\n",
    "\n",
    "    def on_epoch_end(self, epoch, logs={}):\n",
    "        if epoch % self.interval == 0:\n",
    "            y_pred = self.model.predict(self.X_val, verbose=0)\n",
    "            score = roc_auc_score(self.y_val, y_pred)\n",
    "            print(\n",
    "                \"\\n ROC-AUC - epoch: %d - score: %.6f \\n\" % (epoch + 1, score))"
   ]
  },
  {
   "cell_type": "code",
   "execution_count": 17,
   "metadata": {
    "ExecuteTime": {
     "end_time": "2018-12-10T15:21:14.046958Z",
     "start_time": "2018-12-10T15:21:14.039964Z"
    }
   },
   "outputs": [],
   "source": [
    "def get_model():\n",
    "    inp = Input(shape=(maxlen, ))\n",
    "    x = Embedding(max_features, embed_size, weights=[embedding_matrix])(inp)\n",
    "    x = SpatialDropout1D(0.2)(x)\n",
    "    x = Bidirectional(GRU(80, return_sequences=True))(x)\n",
    "    avg_pool = GlobalAveragePooling1D()(x)\n",
    "    max_pool = GlobalMaxPooling1D()(x)\n",
    "    conc = concatenate([avg_pool, max_pool])\n",
    "    outp = Dense(6, activation=\"sigmoid\")(conc)\n",
    "\n",
    "    model = Model(inputs=inp, outputs=outp)\n",
    "    model.compile(\n",
    "        loss='binary_crossentropy', optimizer='adam', metrics=['accuracy'])\n",
    "\n",
    "    return model"
   ]
  },
  {
   "cell_type": "code",
   "execution_count": 21,
   "metadata": {
    "ExecuteTime": {
     "end_time": "2018-12-10T15:21:30.775464Z",
     "start_time": "2018-12-10T15:21:29.529561Z"
    }
   },
   "outputs": [],
   "source": [
    "model = get_model()"
   ]
  },
  {
   "cell_type": "code",
   "execution_count": 22,
   "metadata": {
    "ExecuteTime": {
     "end_time": "2018-12-10T15:21:59.872674Z",
     "start_time": "2018-12-10T15:21:59.592740Z"
    }
   },
   "outputs": [
    {
     "data": {
      "image/svg+xml": [
       "<svg height=\"483pt\" viewBox=\"0.00 0.00 649.77 483.00\" width=\"650pt\" xmlns=\"http://www.w3.org/2000/svg\" xmlns:xlink=\"http://www.w3.org/1999/xlink\">\n",
       "<g class=\"graph\" id=\"graph0\" transform=\"scale(1 1) rotate(0) translate(4 479)\">\n",
       "<title>G</title>\n",
       "<polygon fill=\"#ffffff\" points=\"-4,4 -4,-479 645.7739,-479 645.7739,4 -4,4\" stroke=\"transparent\"/>\n",
       "<!-- 113101855880 -->\n",
       "<g class=\"node\" id=\"node1\">\n",
       "<title>113101855880</title>\n",
       "<polygon fill=\"none\" points=\"266.7393,-438.5 266.7393,-474.5 395.1016,-474.5 395.1016,-438.5 266.7393,-438.5\" stroke=\"#000000\"/>\n",
       "<text fill=\"#000000\" font-family=\"Times,serif\" font-size=\"14.00\" text-anchor=\"middle\" x=\"330.9204\" y=\"-452.3\">input_5: InputLayer</text>\n",
       "</g>\n",
       "<!-- 113101854704 -->\n",
       "<g class=\"node\" id=\"node2\">\n",
       "<title>113101854704</title>\n",
       "<polygon fill=\"none\" points=\"248.8496,-365.5 248.8496,-401.5 412.9912,-401.5 412.9912,-365.5 248.8496,-365.5\" stroke=\"#000000\"/>\n",
       "<text fill=\"#000000\" font-family=\"Times,serif\" font-size=\"14.00\" text-anchor=\"middle\" x=\"330.9204\" y=\"-379.3\">embedding_5: Embedding</text>\n",
       "</g>\n",
       "<!-- 113101855880&#45;&gt;113101854704 -->\n",
       "<g class=\"edge\" id=\"edge1\">\n",
       "<title>113101855880-&gt;113101854704</title>\n",
       "<path d=\"M330.9204,-438.4551C330.9204,-430.3828 330.9204,-420.6764 330.9204,-411.6817\" fill=\"none\" stroke=\"#000000\"/>\n",
       "<polygon fill=\"#000000\" points=\"334.4205,-411.5903 330.9204,-401.5904 327.4205,-411.5904 334.4205,-411.5903\" stroke=\"#000000\"/>\n",
       "</g>\n",
       "<!-- 113102265200 -->\n",
       "<g class=\"node\" id=\"node3\">\n",
       "<title>113102265200</title>\n",
       "<polygon fill=\"none\" points=\"210.3496,-292.5 210.3496,-328.5 451.4912,-328.5 451.4912,-292.5 210.3496,-292.5\" stroke=\"#000000\"/>\n",
       "<text fill=\"#000000\" font-family=\"Times,serif\" font-size=\"14.00\" text-anchor=\"middle\" x=\"330.9204\" y=\"-306.3\">spatial_dropout1d_5: SpatialDropout1D</text>\n",
       "</g>\n",
       "<!-- 113101854704&#45;&gt;113102265200 -->\n",
       "<g class=\"edge\" id=\"edge2\">\n",
       "<title>113101854704-&gt;113102265200</title>\n",
       "<path d=\"M330.9204,-365.4551C330.9204,-357.3828 330.9204,-347.6764 330.9204,-338.6817\" fill=\"none\" stroke=\"#000000\"/>\n",
       "<polygon fill=\"#000000\" points=\"334.4205,-338.5903 330.9204,-328.5904 327.4205,-338.5904 334.4205,-338.5903\" stroke=\"#000000\"/>\n",
       "</g>\n",
       "<!-- 113102649552 -->\n",
       "<g class=\"node\" id=\"node4\">\n",
       "<title>113102649552</title>\n",
       "<polygon fill=\"none\" points=\"199.8701,-219.5 199.8701,-255.5 461.9707,-255.5 461.9707,-219.5 199.8701,-219.5\" stroke=\"#000000\"/>\n",
       "<text fill=\"#000000\" font-family=\"Times,serif\" font-size=\"14.00\" text-anchor=\"middle\" x=\"330.9204\" y=\"-233.3\">bidirectional_5(gru_5): Bidirectional(GRU)</text>\n",
       "</g>\n",
       "<!-- 113102265200&#45;&gt;113102649552 -->\n",
       "<g class=\"edge\" id=\"edge3\">\n",
       "<title>113102265200-&gt;113102649552</title>\n",
       "<path d=\"M330.9204,-292.4551C330.9204,-284.3828 330.9204,-274.6764 330.9204,-265.6817\" fill=\"none\" stroke=\"#000000\"/>\n",
       "<polygon fill=\"#000000\" points=\"334.4205,-265.5903 330.9204,-255.5904 327.4205,-265.5904 334.4205,-265.5903\" stroke=\"#000000\"/>\n",
       "</g>\n",
       "<!-- 113102846216 -->\n",
       "<g class=\"node\" id=\"node5\">\n",
       "<title>113102846216</title>\n",
       "<polygon fill=\"none\" points=\"0,-146.5 0,-182.5 331.8408,-182.5 331.8408,-146.5 0,-146.5\" stroke=\"#000000\"/>\n",
       "<text fill=\"#000000\" font-family=\"Times,serif\" font-size=\"14.00\" text-anchor=\"middle\" x=\"165.9204\" y=\"-160.3\">global_average_pooling1d_4: GlobalAveragePooling1D</text>\n",
       "</g>\n",
       "<!-- 113102649552&#45;&gt;113102846216 -->\n",
       "<g class=\"edge\" id=\"edge4\">\n",
       "<title>113102649552-&gt;113102846216</title>\n",
       "<path d=\"M290.1339,-219.4551C267.7237,-209.5403 239.741,-197.16 216.0115,-186.6615\" fill=\"none\" stroke=\"#000000\"/>\n",
       "<polygon fill=\"#000000\" points=\"217.3707,-183.4356 206.8096,-182.5904 214.5384,-189.8371 217.3707,-183.4356\" stroke=\"#000000\"/>\n",
       "</g>\n",
       "<!-- 113102846720 -->\n",
       "<g class=\"node\" id=\"node6\">\n",
       "<title>113102846720</title>\n",
       "<polygon fill=\"none\" points=\"350.0669,-146.5 350.0669,-182.5 641.7739,-182.5 641.7739,-146.5 350.0669,-146.5\" stroke=\"#000000\"/>\n",
       "<text fill=\"#000000\" font-family=\"Times,serif\" font-size=\"14.00\" text-anchor=\"middle\" x=\"495.9204\" y=\"-160.3\">global_max_pooling1d_4: GlobalMaxPooling1D</text>\n",
       "</g>\n",
       "<!-- 113102649552&#45;&gt;113102846720 -->\n",
       "<g class=\"edge\" id=\"edge5\">\n",
       "<title>113102649552-&gt;113102846720</title>\n",
       "<path d=\"M371.7069,-219.4551C394.1171,-209.5403 422.0998,-197.16 445.8293,-186.6615\" fill=\"none\" stroke=\"#000000\"/>\n",
       "<polygon fill=\"#000000\" points=\"447.3024,-189.8371 455.0312,-182.5904 444.4702,-183.4356 447.3024,-189.8371\" stroke=\"#000000\"/>\n",
       "</g>\n",
       "<!-- 113102845600 -->\n",
       "<g class=\"node\" id=\"node7\">\n",
       "<title>113102845600</title>\n",
       "<polygon fill=\"none\" points=\"244.6011,-73.5 244.6011,-109.5 417.2397,-109.5 417.2397,-73.5 244.6011,-73.5\" stroke=\"#000000\"/>\n",
       "<text fill=\"#000000\" font-family=\"Times,serif\" font-size=\"14.00\" text-anchor=\"middle\" x=\"330.9204\" y=\"-87.3\">concatenate_3: Concatenate</text>\n",
       "</g>\n",
       "<!-- 113102846216&#45;&gt;113102845600 -->\n",
       "<g class=\"edge\" id=\"edge6\">\n",
       "<title>113102846216-&gt;113102845600</title>\n",
       "<path d=\"M206.7069,-146.4551C229.1171,-136.5403 257.0998,-124.16 280.8293,-113.6615\" fill=\"none\" stroke=\"#000000\"/>\n",
       "<polygon fill=\"#000000\" points=\"282.3024,-116.8371 290.0312,-109.5904 279.4702,-110.4356 282.3024,-116.8371\" stroke=\"#000000\"/>\n",
       "</g>\n",
       "<!-- 113102846720&#45;&gt;113102845600 -->\n",
       "<g class=\"edge\" id=\"edge7\">\n",
       "<title>113102846720-&gt;113102845600</title>\n",
       "<path d=\"M455.1339,-146.4551C432.7237,-136.5403 404.741,-124.16 381.0115,-113.6615\" fill=\"none\" stroke=\"#000000\"/>\n",
       "<polygon fill=\"#000000\" points=\"382.3707,-110.4356 371.8096,-109.5904 379.5384,-116.8371 382.3707,-110.4356\" stroke=\"#000000\"/>\n",
       "</g>\n",
       "<!-- 114271175176 -->\n",
       "<g class=\"node\" id=\"node8\">\n",
       "<title>114271175176</title>\n",
       "<polygon fill=\"none\" points=\"278.7944,-.5 278.7944,-36.5 383.0464,-36.5 383.0464,-.5 278.7944,-.5\" stroke=\"#000000\"/>\n",
       "<text fill=\"#000000\" font-family=\"Times,serif\" font-size=\"14.00\" text-anchor=\"middle\" x=\"330.9204\" y=\"-14.3\">dense_3: Dense</text>\n",
       "</g>\n",
       "<!-- 113102845600&#45;&gt;114271175176 -->\n",
       "<g class=\"edge\" id=\"edge8\">\n",
       "<title>113102845600-&gt;114271175176</title>\n",
       "<path d=\"M330.9204,-73.4551C330.9204,-65.3828 330.9204,-55.6764 330.9204,-46.6817\" fill=\"none\" stroke=\"#000000\"/>\n",
       "<polygon fill=\"#000000\" points=\"334.4205,-46.5903 330.9204,-36.5904 327.4205,-46.5904 334.4205,-46.5903\" stroke=\"#000000\"/>\n",
       "</g>\n",
       "</g>\n",
       "</svg>"
      ],
      "text/plain": [
       "<IPython.core.display.SVG object>"
      ]
     },
     "execution_count": 22,
     "metadata": {},
     "output_type": "execute_result"
    }
   ],
   "source": [
    "from IPython.display import SVG\n",
    "from keras.utils.vis_utils import model_to_dot\n",
    "\n",
    "SVG(model_to_dot(model).create(prog='dot', format='svg'))"
   ]
  },
  {
   "cell_type": "code",
   "execution_count": 23,
   "metadata": {
    "ExecuteTime": {
     "end_time": "2018-12-10T15:22:07.941672Z",
     "start_time": "2018-12-10T15:22:07.935423Z"
    }
   },
   "outputs": [
    {
     "name": "stdout",
     "output_type": "stream",
     "text": [
      "__________________________________________________________________________________________________\n",
      "Layer (type)                    Output Shape         Param #     Connected to                     \n",
      "==================================================================================================\n",
      "input_5 (InputLayer)            (None, 100)          0                                            \n",
      "__________________________________________________________________________________________________\n",
      "embedding_5 (Embedding)         (None, 100, 300)     9000000     input_5[0][0]                    \n",
      "__________________________________________________________________________________________________\n",
      "spatial_dropout1d_5 (SpatialDro (None, 100, 300)     0           embedding_5[0][0]                \n",
      "__________________________________________________________________________________________________\n",
      "bidirectional_5 (Bidirectional) (None, 100, 160)     182880      spatial_dropout1d_5[0][0]        \n",
      "__________________________________________________________________________________________________\n",
      "global_average_pooling1d_4 (Glo (None, 160)          0           bidirectional_5[0][0]            \n",
      "__________________________________________________________________________________________________\n",
      "global_max_pooling1d_4 (GlobalM (None, 160)          0           bidirectional_5[0][0]            \n",
      "__________________________________________________________________________________________________\n",
      "concatenate_3 (Concatenate)     (None, 320)          0           global_average_pooling1d_4[0][0] \n",
      "                                                                 global_max_pooling1d_4[0][0]     \n",
      "__________________________________________________________________________________________________\n",
      "dense_3 (Dense)                 (None, 6)            1926        concatenate_3[0][0]              \n",
      "==================================================================================================\n",
      "Total params: 9,184,806\n",
      "Trainable params: 9,184,806\n",
      "Non-trainable params: 0\n",
      "__________________________________________________________________________________________________\n"
     ]
    }
   ],
   "source": [
    "model.summary()"
   ]
  },
  {
   "cell_type": "markdown",
   "metadata": {},
   "source": [
    "9,184,806 parameters shoul be trained."
   ]
  },
  {
   "cell_type": "code",
   "execution_count": null,
   "metadata": {},
   "outputs": [],
   "source": [
    "batch_size = 32\n",
    "epochs = 500\n",
    "\n",
    "X_tra, X_val, y_tra, y_val = train_test_split(x_train, y_train, train_size=0.95, random_state=233)"
   ]
  },
  {
   "cell_type": "code",
   "execution_count": null,
   "metadata": {},
   "outputs": [],
   "source": [
    "roc_auc = RocAucEvaluation(validation_data=(X_val, y_val), interval=1)\n",
    "\n",
    "hist = model.fit(X_tra, y_tra, \n",
    "                 batch_size=batch_size, \n",
    "                 epochs=epochs, \n",
    "                 validation_data=(X_val, y_val),\n",
    "                 callbacks=[roc_auc, EarlyStopping(patience=10)], verbose=2)"
   ]
  },
  {
   "cell_type": "code",
   "execution_count": null,
   "metadata": {},
   "outputs": [],
   "source": [
    "import matplotlib.pyplot as plt\n",
    "\n",
    "# Plot training & validation accuracy values\n",
    "plt.plot(hist.history['acc'])\n",
    "plt.plot(hist.history['val_acc'])\n",
    "plt.title('Model accuracy')\n",
    "plt.ylabel('Accuracy')\n",
    "plt.xlabel('Epoch')\n",
    "plt.legend(['Train', 'Test'], loc='upper left')\n",
    "plt.show()\n",
    "\n",
    "# Plot training & validation loss values\n",
    "plt.plot(hist.history['loss'])\n",
    "plt.plot(hist.history['val_loss'])\n",
    "plt.title('Model loss')\n",
    "plt.ylabel('Loss')\n",
    "plt.xlabel('Epoch')\n",
    "plt.legend(['Train', 'Test'], loc='upper left')\n",
    "plt.show()"
   ]
  },
  {
   "cell_type": "code",
   "execution_count": null,
   "metadata": {},
   "outputs": [],
   "source": [
    "y_pred = model.predict(x_test, batch_size=1024)\n",
    "submission = pd.read_csv('../input/sample_submission.csv')\n",
    "submission[[\"toxic\", \"severe_toxic\", \"obscene\", \"threat\", \"insult\", \"identity_hate\"]] = y_pred\n",
    "submission.to_csv('submission.csv', index=False)"
   ]
  }
 ],
 "metadata": {
  "kernelspec": {
   "display_name": "Python 3",
   "language": "python",
   "name": "python3"
  },
  "language_info": {
   "codemirror_mode": {
    "name": "ipython",
    "version": 3
   },
   "file_extension": ".py",
   "mimetype": "text/x-python",
   "name": "python",
   "nbconvert_exporter": "python",
   "pygments_lexer": "ipython3",
   "version": "3.6.6"
  }
 },
 "nbformat": 4,
 "nbformat_minor": 2
}
