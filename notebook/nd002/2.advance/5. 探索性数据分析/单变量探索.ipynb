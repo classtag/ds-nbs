{
 "cells": [
  {
   "cell_type": "code",
   "execution_count": 4,
   "metadata": {},
   "outputs": [],
   "source": [
    "library(\"ggplot2\")"
   ]
  },
  {
   "cell_type": "code",
   "execution_count": 7,
   "metadata": {},
   "outputs": [
    {
     "data": {
      "text/plain": [
       "     carat               cut        color        clarity          depth      \n",
       " Min.   :0.2000   Fair     : 1610   D: 6775   SI1    :13065   Min.   :43.00  \n",
       " 1st Qu.:0.4000   Good     : 4906   E: 9797   VS2    :12258   1st Qu.:61.00  \n",
       " Median :0.7000   Very Good:12082   F: 9542   SI2    : 9194   Median :61.80  \n",
       " Mean   :0.7979   Premium  :13791   G:11292   VS1    : 8171   Mean   :61.75  \n",
       " 3rd Qu.:1.0400   Ideal    :21551   H: 8304   VVS2   : 5066   3rd Qu.:62.50  \n",
       " Max.   :5.0100                     I: 5422   VVS1   : 3655   Max.   :79.00  \n",
       "                                    J: 2808   (Other): 2531                  \n",
       "     table           price             x                y         \n",
       " Min.   :43.00   Min.   :  326   Min.   : 0.000   Min.   : 0.000  \n",
       " 1st Qu.:56.00   1st Qu.:  950   1st Qu.: 4.710   1st Qu.: 4.720  \n",
       " Median :57.00   Median : 2401   Median : 5.700   Median : 5.710  \n",
       " Mean   :57.46   Mean   : 3933   Mean   : 5.731   Mean   : 5.735  \n",
       " 3rd Qu.:59.00   3rd Qu.: 5324   3rd Qu.: 6.540   3rd Qu.: 6.540  \n",
       " Max.   :95.00   Max.   :18823   Max.   :10.740   Max.   :58.900  \n",
       "                                                                  \n",
       "       z         \n",
       " Min.   : 0.000  \n",
       " 1st Qu.: 2.910  \n",
       " Median : 3.530  \n",
       " Mean   : 3.539  \n",
       " 3rd Qu.: 4.040  \n",
       " Max.   :31.800  \n",
       "                 "
      ]
     },
     "metadata": {},
     "output_type": "display_data"
    }
   ],
   "source": [
    "summary(diamonds)"
   ]
  },
  {
   "cell_type": "code",
   "execution_count": 8,
   "metadata": {},
   "outputs": [
    {
     "data": {
      "text/html": [
       "\n",
       "<table width=\"100%\" summary=\"page for diamonds {ggplot2}\"><tr><td>diamonds {ggplot2}</td><td style=\"text-align: right;\">R Documentation</td></tr></table>\n",
       "\n",
       "<h2>Prices of 50,000 round cut diamonds</h2>\n",
       "\n",
       "<h3>Description</h3>\n",
       "\n",
       "<p>A dataset containing the prices and other attributes of almost 54,000\n",
       "diamonds. The variables are as follows:\n",
       "</p>\n",
       "\n",
       "\n",
       "<h3>Usage</h3>\n",
       "\n",
       "<pre>\n",
       "diamonds\n",
       "</pre>\n",
       "\n",
       "\n",
       "<h3>Format</h3>\n",
       "\n",
       "<p>A data frame with 53940 rows and 10 variables:\n",
       "</p>\n",
       "\n",
       "<dl>\n",
       "<dt>price</dt><dd><p>price in US dollars (\\$326&ndash;\\$18,823)</p>\n",
       "</dd>\n",
       "<dt>carat</dt><dd><p>weight of the diamond (0.2&ndash;5.01)</p>\n",
       "</dd>\n",
       "<dt>cut</dt><dd><p>quality of the cut (Fair, Good, Very Good, Premium, Ideal)</p>\n",
       "</dd>\n",
       "<dt>color</dt><dd><p>diamond colour, from J (worst) to D (best)</p>\n",
       "</dd>\n",
       "<dt>clarity</dt><dd><p>a measurement of how clear the diamond is (I1 (worst), SI2,\n",
       "SI1, VS2, VS1, VVS2, VVS1, IF (best))</p>\n",
       "</dd>\n",
       "<dt>x</dt><dd><p>length in mm (0&ndash;10.74)</p>\n",
       "</dd>\n",
       "<dt>y</dt><dd><p>width in mm (0&ndash;58.9)</p>\n",
       "</dd>\n",
       "<dt>z</dt><dd><p>depth in mm (0&ndash;31.8)</p>\n",
       "</dd>\n",
       "<dt>depth</dt><dd><p>total depth percentage = z / mean(x, y) = 2 * z / (x + y) (43&ndash;79)</p>\n",
       "</dd>\n",
       "<dt>table</dt><dd><p>width of top of diamond relative to widest point (43&ndash;95)</p>\n",
       "</dd>\n",
       "</dl>\n",
       "\n",
       "<hr /><div style=\"text-align: center;\">[Package <em>ggplot2</em> version 3.1.0 ]</div>"
      ],
      "text/latex": [
       "\\inputencoding{utf8}\n",
       "\\HeaderA{diamonds}{Prices of 50,000 round cut diamonds}{diamonds}\n",
       "\\keyword{datasets}{diamonds}\n",
       "%\n",
       "\\begin{Description}\\relax\n",
       "A dataset containing the prices and other attributes of almost 54,000\n",
       "diamonds. The variables are as follows:\n",
       "\\end{Description}\n",
       "%\n",
       "\\begin{Usage}\n",
       "\\begin{verbatim}\n",
       "diamonds\n",
       "\\end{verbatim}\n",
       "\\end{Usage}\n",
       "%\n",
       "\\begin{Format}\n",
       "A data frame with 53940 rows and 10 variables:\n",
       "\\begin{description}\n",
       "\n",
       "\\item[price] price in US dollars (\\bsl{}\\$326--\\bsl{}\\$18,823)\n",
       "\\item[carat] weight of the diamond (0.2--5.01)\n",
       "\\item[cut] quality of the cut (Fair, Good, Very Good, Premium, Ideal)\n",
       "\\item[color] diamond colour, from J (worst) to D (best)\n",
       "\\item[clarity] a measurement of how clear the diamond is (I1 (worst), SI2,\n",
       "SI1, VS2, VS1, VVS2, VVS1, IF (best))\n",
       "\\item[x] length in mm (0--10.74)\n",
       "\\item[y] width in mm (0--58.9)\n",
       "\\item[z] depth in mm (0--31.8)\n",
       "\\item[depth] total depth percentage = z / mean(x, y) = 2 * z / (x + y) (43--79)\n",
       "\\item[table] width of top of diamond relative to widest point (43--95)\n",
       "\n",
       "\\end{description}\n",
       "\\end{Format}"
      ],
      "text/plain": [
       "diamonds                package:ggplot2                R Documentation\n",
       "\n",
       "_\bP_\br_\bi_\bc_\be_\bs _\bo_\bf _\b5_\b0,_\b0_\b0_\b0 _\br_\bo_\bu_\bn_\bd _\bc_\bu_\bt _\bd_\bi_\ba_\bm_\bo_\bn_\bd_\bs\n",
       "\n",
       "_\bD_\be_\bs_\bc_\br_\bi_\bp_\bt_\bi_\bo_\bn:\n",
       "\n",
       "     A dataset containing the prices and other attributes of almost\n",
       "     54,000 diamonds. The variables are as follows:\n",
       "\n",
       "_\bU_\bs_\ba_\bg_\be:\n",
       "\n",
       "     diamonds\n",
       "     \n",
       "_\bF_\bo_\br_\bm_\ba_\bt:\n",
       "\n",
       "     A data frame with 53940 rows and 10 variables:\n",
       "\n",
       "     price price in US dollars (\\$326-\\$18,823)\n",
       "\n",
       "     carat weight of the diamond (0.2-5.01)\n",
       "\n",
       "     cut quality of the cut (Fair, Good, Very Good, Premium, Ideal)\n",
       "\n",
       "     color diamond colour, from J (worst) to D (best)\n",
       "\n",
       "     clarity a measurement of how clear the diamond is (I1 (worst),\n",
       "          SI2, SI1, VS2, VS1, VVS2, VVS1, IF (best))\n",
       "\n",
       "     x length in mm (0-10.74)\n",
       "\n",
       "     y width in mm (0-58.9)\n",
       "\n",
       "     z depth in mm (0-31.8)\n",
       "\n",
       "     depth total depth percentage = z / mean(x, y) = 2 * z / (x + y)\n",
       "          (43-79)\n",
       "\n",
       "     table width of top of diamond relative to widest point (43-95)\n"
      ]
     },
     "metadata": {},
     "output_type": "display_data"
    }
   ],
   "source": [
    "?diamonds"
   ]
  },
  {
   "cell_type": "code",
   "execution_count": 9,
   "metadata": {},
   "outputs": [
    {
     "name": "stderr",
     "output_type": "stream",
     "text": [
      "`stat_bin()` using `bins = 30`. Pick better value with `binwidth`.\n"
     ]
    },
    {
     "data": {},
     "metadata": {},
     "output_type": "display_data"
    },
    {
     "data": {
      "image/png": "[encoded data removed]",
      "text/plain": [
       "plot without title"
      ]
     },
     "metadata": {},
     "output_type": "display_data"
    }
   ],
   "source": [
    "ggplot(aes(x = price), data = diamonds) + geom_histogram()"
   ]
  },
  {
   "cell_type": "code",
   "execution_count": 10,
   "metadata": {},
   "outputs": [
    {
     "data": {
      "text/plain": [
       "   Min. 1st Qu.  Median    Mean 3rd Qu.    Max. \n",
       "    326     950    2401    3933    5324   18823 "
      ]
     },
     "metadata": {},
     "output_type": "display_data"
    }
   ],
   "source": [
    "summary(diamonds$price)"
   ]
  },
  {
   "cell_type": "code",
   "execution_count": 13,
   "metadata": {},
   "outputs": [
    {
     "data": {},
     "metadata": {},
     "output_type": "display_data"
    },
    {
     "data": {
      "image/png": "[encoded data removed]",
      "text/plain": [
       "plot without title"
      ]
     },
     "metadata": {},
     "output_type": "display_data"
    }
   ],
   "source": [
    "ggplot(aes(x = price), data = diamonds) + \n",
    "    geom_histogram(binwidth = 10) + \n",
    "    coord_cartesian(xlim = c(326, 950))"
   ]
  },
  {
   "cell_type": "code",
   "execution_count": null,
   "metadata": {},
   "outputs": [],
   "source": []
  }
 ],
 "metadata": {
  "kernelspec": {
   "display_name": "R",
   "language": "R",
   "name": "ir"
  },
  "language_info": {
   "codemirror_mode": "r",
   "file_extension": ".r",
   "mimetype": "text/x-r-source",
   "name": "R",
   "pygments_lexer": "r",
   "version": "3.4.1"
  },
  "toc": {
   "base_numbering": 1,
   "nav_menu": {},
   "number_sections": true,
   "sideBar": true,
   "skip_h1_title": false,
   "title_cell": "Table of Contents",
   "title_sidebar": "Contents",
   "toc_cell": false,
   "toc_position": {},
   "toc_section_display": true,
   "toc_window_display": false
  }
 },
 "nbformat": 4,
 "nbformat_minor": 2
}
