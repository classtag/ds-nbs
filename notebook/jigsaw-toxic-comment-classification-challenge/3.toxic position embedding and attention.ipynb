{
 "cells": [
  {
   "cell_type": "markdown",
   "metadata": {},
   "source": [
    "# 基于Position_Embedding和 Attention机制进行文本分类\n",
    "\n",
    "注意力机制即 Attention mechanism在序列学习任务上具有巨大的提升作用，在编解码器框架内，通过在编码段加入Attention模型，对源数据序列进行数据加权变换，或者在解码端引入Attention 模型，对目标数据进行加权变化，可以有效提高序列对序列的自然方式下的系统表现。\n",
    "\n",
    "### 什么是Attention： \n",
    "Attention模型的基本表述可以这样理解成： 当我们人在看一样东西的时候，我们当前时刻关注的一定是我们当前正在看的这样东西的某一地方，换句话说，当我们目光移到别处时，注意力随着目光的移动也在转移。 这意味着，当人们注意到某个目标或某个场景时，该目标内部以及该场景内每一处空间位置上的注意力分布是不一样的。 这一点在如下情形下同样成立：当我们试图描述一件事情，我们当前时刻说到的单词和句子和正在描述的该事情的对应某个片段最先关，而其他部分随着描述的进行，相关性也在不断地改变。\n",
    "\n",
    "从上面两种情形来看，对于 Attention的作用角度出发，我们就可以从两个角度来分类 Attention种类： 空间注意力 Spatial Attention 时间注意力 Temporal Attention 这样的分类更多的是从应用层面上，而从 Attention的作用方法上，可以将其分为 Soft Attention 和 Hard Attention，这既我们所说的， Attention输出的向量分布是一种one-hot的独热分布还是soft的软分布，这直接影响对于上下文信息的选择作用。\n",
    "\n",
    "### 为什么要加入Attention： \n",
    "当输入序列非常长时，模型难以学到合理的向量表示 序列输入时，随着序列的不断增长，原始根据时间步的方式的表现越来越差，这是由于原始的这种时间步模型设计的结构有缺陷，即所有的上下文输入信息都被限制到固定长度，整个模型的能力都同样收到限制，我们暂且把这种原始的模型称为简单的编解码器模型。 编解码器的结构无法解释，也就导致了其无法设计。\n",
    "\n",
    "### 长输入序列带来的问题： \n",
    "使用传统编码器-解码器的RNN模型先用一些LSTM单元来对输入序列进行学习，编码为固定长度的向量表示；然后再用一些LSTM单元来读取这种向量表示并解码为输出序列。 采用这种结构的模型在许多比较难的序列预测问题（如文本翻译）上都取得了最好的结果，因此迅速成为了目前的主流方法。 这种结构在很多其他的领域上也取得了不错的结果。然而，它存在一个问题在于：输入序列不论长短都会被编码成一个固定长度的向量表示，而解码则受限于该固定长度的向量表示。 这个问题限制了模型的性能，尤其是当输入序列比较长时，模型的性能会变得很差（在文本翻译任务上表现为待翻译的原始文本长度过长时翻译质量较差）。\n",
    "\n",
    "“一个潜在的问题是，采用编码器-解码器结构的神经网络模型需要将输入序列中的必要信息表示为一个固定长度的向量，而当输入序列很长时则难以保留全部的必要信息（因为太多），尤其是当输入序列的长度比训练数据集中的更长时。” — Dzmitry Bahdanau, et al., Neural machine translation by jointly learning to align and translate, 2015\n",
    "\n",
    "### 如何使用Attention机制：\n",
    "Attention机制的基本思想是：打破了传统编码器-解码器结构在编解码时都依赖于内部一个固定长度向量的限制。 Attention机制的实现是 通过保留LSTM编码器对输入序列的中间输出结果，然后训练一个模型来对这些输入进行选择性的学习并且在模型输出时将输出序列与之进行关联。\n",
    "\n",
    "换一个角度而言，输出序列中的每一项的生成概率取决于在输入序列中选择了哪些项。\n",
    "\n",
    "Attention-based Model 其实就是一个相似性的度量，当前的输入与目标状态约相似，那么在当前的输入的权重就会越大。就是在原有的model上加入了Attention的思想。\n",
    "\n",
    "**没有attention机制的encoder-decoder结构通常把encoder的最后一个状态作为decoder的输入（可能作为初始化，也可能作为每一时刻的输入），但是encoder的state毕竟是有限的，存储不了太多的信息，对于decoder过程，每一个步骤都和之前的输入都没有关系了，只与这个传入的state有关。attention机制的引入之后，decoder根据时刻的不同，让每一时刻的输入都有所不同。**\n"
   ]
  },
  {
   "cell_type": "code",
   "execution_count": 1,
   "metadata": {
    "ExecuteTime": {
     "end_time": "2018-12-10T14:57:32.722117Z",
     "start_time": "2018-12-10T14:57:32.705184Z"
    }
   },
   "outputs": [
    {
     "data": {
      "text/plain": [
       "['wiki-news-300d-1M.vec.zip',\n",
       " 'test.csv',\n",
       " 'crawl-300d-2M.vec.zip',\n",
       " 'train.csv',\n",
       " 'sample_submission.csv']"
      ]
     },
     "execution_count": 1,
     "metadata": {},
     "output_type": "execute_result"
    }
   ],
   "source": [
    "import os\n",
    "os.listdir('../input')"
   ]
  },
  {
   "cell_type": "code",
   "execution_count": 2,
   "metadata": {
    "ExecuteTime": {
     "end_time": "2018-12-10T14:57:33.794667Z",
     "start_time": "2018-12-10T14:57:32.724670Z"
    }
   },
   "outputs": [],
   "source": [
    "import pandas as pd\n",
    "import numpy as np"
   ]
  },
  {
   "cell_type": "code",
   "execution_count": 3,
   "metadata": {
    "ExecuteTime": {
     "end_time": "2018-12-10T14:57:33.801038Z",
     "start_time": "2018-12-10T14:57:33.797953Z"
    }
   },
   "outputs": [],
   "source": [
    "np.random.seed(42)"
   ]
  },
  {
   "cell_type": "code",
   "execution_count": 4,
   "metadata": {
    "ExecuteTime": {
     "end_time": "2018-12-10T14:57:35.597085Z",
     "start_time": "2018-12-10T14:57:33.806670Z"
    }
   },
   "outputs": [
    {
     "name": "stdout",
     "output_type": "stream",
     "text": [
      "train shape 159571 rows, 8 cols\n",
      "test shape 153164 rows, 2 cols\n"
     ]
    }
   ],
   "source": [
    "# read data to dataframe\n",
    "df_train = pd.read_csv('../input/train.csv')\n",
    "df_test = pd.read_csv('../input/test.csv')\n",
    "\n",
    "print('train shape {} rows, {} cols'.format(*df_train.shape))\n",
    "print('test shape {} rows, {} cols'.format(*df_test.shape))"
   ]
  },
  {
   "cell_type": "code",
   "execution_count": 5,
   "metadata": {
    "ExecuteTime": {
     "end_time": "2018-12-10T14:57:35.628899Z",
     "start_time": "2018-12-10T14:57:35.599462Z"
    }
   },
   "outputs": [
    {
     "data": {
      "text/html": [
       "<div>\n",
       "<style scoped>\n",
       "    .dataframe tbody tr th:only-of-type {\n",
       "        vertical-align: middle;\n",
       "    }\n",
       "\n",
       "    .dataframe tbody tr th {\n",
       "        vertical-align: top;\n",
       "    }\n",
       "\n",
       "    .dataframe thead th {\n",
       "        text-align: right;\n",
       "    }\n",
       "</style>\n",
       "<table border=\"1\" class=\"dataframe\">\n",
       "  <thead>\n",
       "    <tr style=\"text-align: right;\">\n",
       "      <th></th>\n",
       "      <th>id</th>\n",
       "      <th>comment_text</th>\n",
       "      <th>toxic</th>\n",
       "      <th>severe_toxic</th>\n",
       "      <th>obscene</th>\n",
       "      <th>threat</th>\n",
       "      <th>insult</th>\n",
       "      <th>identity_hate</th>\n",
       "    </tr>\n",
       "  </thead>\n",
       "  <tbody>\n",
       "    <tr>\n",
       "      <th>0</th>\n",
       "      <td>0000997932d777bf</td>\n",
       "      <td>Explanation\\nWhy the edits made under my usern...</td>\n",
       "      <td>0</td>\n",
       "      <td>0</td>\n",
       "      <td>0</td>\n",
       "      <td>0</td>\n",
       "      <td>0</td>\n",
       "      <td>0</td>\n",
       "    </tr>\n",
       "    <tr>\n",
       "      <th>1</th>\n",
       "      <td>000103f0d9cfb60f</td>\n",
       "      <td>D'aww! He matches this background colour I'm s...</td>\n",
       "      <td>0</td>\n",
       "      <td>0</td>\n",
       "      <td>0</td>\n",
       "      <td>0</td>\n",
       "      <td>0</td>\n",
       "      <td>0</td>\n",
       "    </tr>\n",
       "    <tr>\n",
       "      <th>2</th>\n",
       "      <td>000113f07ec002fd</td>\n",
       "      <td>Hey man, I'm really not trying to edit war. It...</td>\n",
       "      <td>0</td>\n",
       "      <td>0</td>\n",
       "      <td>0</td>\n",
       "      <td>0</td>\n",
       "      <td>0</td>\n",
       "      <td>0</td>\n",
       "    </tr>\n",
       "    <tr>\n",
       "      <th>3</th>\n",
       "      <td>0001b41b1c6bb37e</td>\n",
       "      <td>\"\\nMore\\nI can't make any real suggestions on ...</td>\n",
       "      <td>0</td>\n",
       "      <td>0</td>\n",
       "      <td>0</td>\n",
       "      <td>0</td>\n",
       "      <td>0</td>\n",
       "      <td>0</td>\n",
       "    </tr>\n",
       "    <tr>\n",
       "      <th>4</th>\n",
       "      <td>0001d958c54c6e35</td>\n",
       "      <td>You, sir, are my hero. Any chance you remember...</td>\n",
       "      <td>0</td>\n",
       "      <td>0</td>\n",
       "      <td>0</td>\n",
       "      <td>0</td>\n",
       "      <td>0</td>\n",
       "      <td>0</td>\n",
       "    </tr>\n",
       "  </tbody>\n",
       "</table>\n",
       "</div>"
      ],
      "text/plain": [
       "                 id                                       comment_text  toxic  \\\n",
       "0  0000997932d777bf  Explanation\\nWhy the edits made under my usern...      0   \n",
       "1  000103f0d9cfb60f  D'aww! He matches this background colour I'm s...      0   \n",
       "2  000113f07ec002fd  Hey man, I'm really not trying to edit war. It...      0   \n",
       "3  0001b41b1c6bb37e  \"\\nMore\\nI can't make any real suggestions on ...      0   \n",
       "4  0001d958c54c6e35  You, sir, are my hero. Any chance you remember...      0   \n",
       "\n",
       "   severe_toxic  obscene  threat  insult  identity_hate  \n",
       "0             0        0       0       0              0  \n",
       "1             0        0       0       0              0  \n",
       "2             0        0       0       0              0  \n",
       "3             0        0       0       0              0  \n",
       "4             0        0       0       0              0  "
      ]
     },
     "execution_count": 5,
     "metadata": {},
     "output_type": "execute_result"
    }
   ],
   "source": [
    "df_train.head()"
   ]
  },
  {
   "cell_type": "code",
   "execution_count": 6,
   "metadata": {
    "ExecuteTime": {
     "end_time": "2018-12-10T14:57:35.649055Z",
     "start_time": "2018-12-10T14:57:35.633585Z"
    }
   },
   "outputs": [
    {
     "data": {
      "text/html": [
       "<div>\n",
       "<style scoped>\n",
       "    .dataframe tbody tr th:only-of-type {\n",
       "        vertical-align: middle;\n",
       "    }\n",
       "\n",
       "    .dataframe tbody tr th {\n",
       "        vertical-align: top;\n",
       "    }\n",
       "\n",
       "    .dataframe thead th {\n",
       "        text-align: right;\n",
       "    }\n",
       "</style>\n",
       "<table border=\"1\" class=\"dataframe\">\n",
       "  <thead>\n",
       "    <tr style=\"text-align: right;\">\n",
       "      <th></th>\n",
       "      <th>id</th>\n",
       "      <th>comment_text</th>\n",
       "    </tr>\n",
       "  </thead>\n",
       "  <tbody>\n",
       "    <tr>\n",
       "      <th>0</th>\n",
       "      <td>00001cee341fdb12</td>\n",
       "      <td>Yo bitch Ja Rule is more succesful then you'll...</td>\n",
       "    </tr>\n",
       "    <tr>\n",
       "      <th>1</th>\n",
       "      <td>0000247867823ef7</td>\n",
       "      <td>== From RfC == \\n\\n The title is fine as it is...</td>\n",
       "    </tr>\n",
       "    <tr>\n",
       "      <th>2</th>\n",
       "      <td>00013b17ad220c46</td>\n",
       "      <td>\" \\n\\n == Sources == \\n\\n * Zawe Ashton on Lap...</td>\n",
       "    </tr>\n",
       "    <tr>\n",
       "      <th>3</th>\n",
       "      <td>00017563c3f7919a</td>\n",
       "      <td>:If you have a look back at the source, the in...</td>\n",
       "    </tr>\n",
       "    <tr>\n",
       "      <th>4</th>\n",
       "      <td>00017695ad8997eb</td>\n",
       "      <td>I don't anonymously edit articles at all.</td>\n",
       "    </tr>\n",
       "  </tbody>\n",
       "</table>\n",
       "</div>"
      ],
      "text/plain": [
       "                 id                                       comment_text\n",
       "0  00001cee341fdb12  Yo bitch Ja Rule is more succesful then you'll...\n",
       "1  0000247867823ef7  == From RfC == \\n\\n The title is fine as it is...\n",
       "2  00013b17ad220c46  \" \\n\\n == Sources == \\n\\n * Zawe Ashton on Lap...\n",
       "3  00017563c3f7919a  :If you have a look back at the source, the in...\n",
       "4  00017695ad8997eb          I don't anonymously edit articles at all."
      ]
     },
     "execution_count": 6,
     "metadata": {},
     "output_type": "execute_result"
    }
   ],
   "source": [
    "df_test.head()"
   ]
  },
  {
   "cell_type": "code",
   "execution_count": 7,
   "metadata": {
    "ExecuteTime": {
     "end_time": "2018-12-10T14:57:35.688674Z",
     "start_time": "2018-12-10T14:57:35.652340Z"
    }
   },
   "outputs": [
    {
     "name": "stdout",
     "output_type": "stream",
     "text": [
      "toxic\n",
      "0    144277\n",
      "1     15294\n",
      "Name: toxic, dtype: int64\n",
      "********************************************************************************\n",
      "severe_toxic\n",
      "0    157976\n",
      "1      1595\n",
      "Name: severe_toxic, dtype: int64\n",
      "********************************************************************************\n",
      "obscene\n",
      "0    151122\n",
      "1      8449\n",
      "Name: obscene, dtype: int64\n",
      "********************************************************************************\n",
      "threat\n",
      "0    159093\n",
      "1       478\n",
      "Name: threat, dtype: int64\n",
      "********************************************************************************\n",
      "insult\n",
      "0    151694\n",
      "1      7877\n",
      "Name: insult, dtype: int64\n",
      "********************************************************************************\n",
      "identity_hate\n",
      "0    158166\n",
      "1      1405\n",
      "Name: identity_hate, dtype: int64\n",
      "********************************************************************************\n"
     ]
    }
   ],
   "source": [
    "for label in ['toxic','severe_toxic','obscene','threat','insult','identity_hate']:\n",
    "  print(label)\n",
    "  print(df_train[label].value_counts())\n",
    "  print('*'*80)"
   ]
  },
  {
   "cell_type": "code",
   "execution_count": 8,
   "metadata": {
    "ExecuteTime": {
     "end_time": "2018-12-10T14:57:39.942188Z",
     "start_time": "2018-12-10T14:57:35.691049Z"
    }
   },
   "outputs": [
    {
     "name": "stderr",
     "output_type": "stream",
     "text": [
      "Using TensorFlow backend.\n"
     ]
    }
   ],
   "source": [
    "from keras.preprocessing import text, sequence"
   ]
  },
  {
   "cell_type": "code",
   "execution_count": 9,
   "metadata": {
    "ExecuteTime": {
     "end_time": "2018-12-10T14:57:40.005891Z",
     "start_time": "2018-12-10T14:57:39.944178Z"
    }
   },
   "outputs": [],
   "source": [
    "X_train = df_train[\"comment_text\"].fillna(\"fillna\").values\n",
    "target_cols = [\"toxic\", \"severe_toxic\", \"obscene\", \"threat\", \"insult\", \"identity_hate\"]\n",
    "y_train = df_train[target_cols].values\n",
    "X_test = df_test[\"comment_text\"].fillna(\"fillna\").values"
   ]
  },
  {
   "cell_type": "code",
   "execution_count": 10,
   "metadata": {
    "ExecuteTime": {
     "end_time": "2018-12-10T14:58:20.662938Z",
     "start_time": "2018-12-10T14:57:40.008048Z"
    }
   },
   "outputs": [],
   "source": [
    "max_features = 30000\n",
    "maxlen = 100\n",
    "embed_size = 300\n",
    "\n",
    "tokenizer = text.Tokenizer(num_words=max_features)\n",
    "tokenizer.fit_on_texts(list(X_train) + list(X_test))\n",
    "\n",
    "X_train = tokenizer.texts_to_sequences(X_train)\n",
    "x_train = sequence.pad_sequences(X_train, maxlen=maxlen)\n",
    "\n",
    "X_test = tokenizer.texts_to_sequences(X_test)\n",
    "x_test = sequence.pad_sequences(X_test, maxlen=maxlen)"
   ]
  },
  {
   "cell_type": "code",
   "execution_count": 11,
   "metadata": {
    "ExecuteTime": {
     "end_time": "2018-12-10T14:58:20.681119Z",
     "start_time": "2018-12-10T14:58:20.664369Z"
    }
   },
   "outputs": [],
   "source": [
    "from keras import backend as K\n",
    "from keras.engine.topology import Layer\n",
    "from keras.models import Model\n",
    "from keras.layers import *\n",
    "\n",
    "\n",
    "class Position_Embedding(Layer):\n",
    "\n",
    "  def __init__(self, size=None, mode='sum', **kwargs):\n",
    "    self.size = size  # 必须为偶数\n",
    "    self.mode = mode\n",
    "    super(Position_Embedding, self).__init__(**kwargs)\n",
    "\n",
    "  def call(self, x):\n",
    "    if (self.size == None) or (self.mode == 'sum'):\n",
    "      self.size = int(x.shape[-1])\n",
    "    batch_size, seq_len = K.shape(x)[0], K.shape(x)[1]\n",
    "    position_j = 1. / K.pow(10000., 2 * K.arange(self.size / 2, dtype='float32') / self.size)\n",
    "    position_j = K.expand_dims(position_j, 0)\n",
    "    position_i = K.cumsum(K.ones_like(x[:, :, 0]),\n",
    "                          1) - 1  # K.arange不支持变长，只好用这种方法生成\n",
    "    position_i = K.expand_dims(position_i, 2)\n",
    "    position_ij = K.dot(position_i, position_j)\n",
    "    position_ij = K.concatenate([K.cos(position_ij), K.sin(position_ij)], 2)\n",
    "    if self.mode == 'sum':\n",
    "      return position_ij + x\n",
    "    elif self.mode == 'concat':\n",
    "      return K.concatenate([position_ij, x], 2)\n",
    "\n",
    "  def compute_output_shape(self, input_shape):\n",
    "    if self.mode == 'sum':\n",
    "      return input_shape\n",
    "    elif self.mode == 'concat':\n",
    "      return (input_shape[0], input_shape[1], input_shape[2] + self.size)"
   ]
  },
  {
   "cell_type": "code",
   "execution_count": 12,
   "metadata": {
    "ExecuteTime": {
     "end_time": "2018-12-10T14:58:20.704490Z",
     "start_time": "2018-12-10T14:58:20.683837Z"
    }
   },
   "outputs": [],
   "source": [
    "class Attention(Layer):\n",
    "\n",
    "  def __init__(self, nb_head, size_per_head, **kwargs):\n",
    "    self.nb_head = nb_head\n",
    "    self.size_per_head = size_per_head\n",
    "    self.output_dim = nb_head * size_per_head\n",
    "    super(Attention, self).__init__(**kwargs)\n",
    "\n",
    "  def build(self, input_shape):\n",
    "    self.WQ = self.add_weight(\n",
    "        name='WQ',\n",
    "        shape=(input_shape[0][-1], self.output_dim),\n",
    "        initializer='glorot_uniform',\n",
    "        trainable=True)\n",
    "    self.WK = self.add_weight(\n",
    "        name='WK',\n",
    "        shape=(input_shape[1][-1], self.output_dim),\n",
    "        initializer='glorot_uniform',\n",
    "        trainable=True)\n",
    "    self.WV = self.add_weight(\n",
    "        name='WV',\n",
    "        shape=(input_shape[2][-1], self.output_dim),\n",
    "        initializer='glorot_uniform',\n",
    "        trainable=True)\n",
    "    super(Attention, self).build(input_shape)\n",
    "\n",
    "  def Mask(self, inputs, seq_len, mode='mul'):\n",
    "    if seq_len == None:\n",
    "      return inputs\n",
    "    else:\n",
    "      mask = K.one_hot(seq_len[:, 0], K.shape(inputs)[1])\n",
    "      mask = 1 - K.cumsum(mask, 1)\n",
    "      for _ in range(len(inputs.shape) - 2):\n",
    "        mask = K.expand_dims(mask, 2)\n",
    "      if mode == 'mul':\n",
    "        return inputs * mask\n",
    "      if mode == 'add':\n",
    "        return inputs - (1 - mask) * 1e12\n",
    "\n",
    "  def call(self, x):\n",
    "    # 如果只传入Q_seq,K_seq,V_seq，那么就不做Mask\n",
    "    # 如果同时传入Q_seq,K_seq,V_seq,Q_len,V_len，那么对多余部分做Mask\n",
    "    if len(x) == 3:\n",
    "      Q_seq, K_seq, V_seq = x\n",
    "      Q_len, V_len = None, None\n",
    "    elif len(x) == 5:\n",
    "      Q_seq, K_seq, V_seq, Q_len, V_len = x\n",
    "    # 对Q、K、V做线性变换\n",
    "    Q_seq = K.dot(Q_seq, self.WQ)\n",
    "    Q_seq = K.reshape(Q_seq,\n",
    "                      (-1, K.shape(Q_seq)[1], self.nb_head, self.size_per_head))\n",
    "    Q_seq = K.permute_dimensions(Q_seq, (0, 2, 1, 3))\n",
    "    K_seq = K.dot(K_seq, self.WK)\n",
    "    K_seq = K.reshape(K_seq,\n",
    "                      (-1, K.shape(K_seq)[1], self.nb_head, self.size_per_head))\n",
    "    K_seq = K.permute_dimensions(K_seq, (0, 2, 1, 3))\n",
    "    V_seq = K.dot(V_seq, self.WV)\n",
    "    V_seq = K.reshape(V_seq,\n",
    "                      (-1, K.shape(V_seq)[1], self.nb_head, self.size_per_head))\n",
    "    V_seq = K.permute_dimensions(V_seq, (0, 2, 1, 3))\n",
    "    # 计算内积，然后mask，然后softmax\n",
    "    A = K.batch_dot(Q_seq, K_seq, axes=[3, 3]) / self.size_per_head**0.5\n",
    "    A = K.permute_dimensions(A, (0, 3, 2, 1))\n",
    "    A = self.Mask(A, V_len, 'add')\n",
    "    A = K.permute_dimensions(A, (0, 3, 2, 1))\n",
    "    A = K.softmax(A)\n",
    "    # 输出并mask\n",
    "    O_seq = K.batch_dot(A, V_seq, axes=[3, 2])\n",
    "    O_seq = K.permute_dimensions(O_seq, (0, 2, 1, 3))\n",
    "    O_seq = K.reshape(O_seq, (-1, K.shape(O_seq)[1], self.output_dim))\n",
    "    O_seq = self.Mask(O_seq, Q_len, 'mul')\n",
    "    return O_seq\n",
    "\n",
    "  def compute_output_shape(self, input_shape):\n",
    "    return (input_shape[0][0], input_shape[0][1], self.output_dim)"
   ]
  },
  {
   "cell_type": "code",
   "execution_count": 13,
   "metadata": {
    "ExecuteTime": {
     "end_time": "2018-12-10T14:58:21.769394Z",
     "start_time": "2018-12-10T14:58:20.709775Z"
    }
   },
   "outputs": [],
   "source": [
    "from keras.callbacks import *\n",
    "from sklearn.metrics import roc_auc_score\n",
    "\n",
    "\n",
    "class RocAucEvaluation(Callback):\n",
    "\n",
    "  def __init__(self, validation_data=(), interval=1):\n",
    "    super(Callback, self).__init__()\n",
    "    self.interval = interval\n",
    "    self.X_val, self.y_val = validation_data\n",
    "\n",
    "  def on_epoch_end(self, epoch, logs={}):\n",
    "    if epoch % self.interval == 0:\n",
    "      y_pred = self.model.predict(self.X_val, verbose=0)\n",
    "      score = roc_auc_score(self.y_val, y_pred)\n",
    "      print(\"\\n ROC-AUC - epoch: %d - score: %.6f \\n\" % (epoch + 1, score))"
   ]
  },
  {
   "cell_type": "code",
   "execution_count": 22,
   "metadata": {
    "ExecuteTime": {
     "end_time": "2018-12-10T15:06:57.660508Z",
     "start_time": "2018-12-10T15:06:57.468709Z"
    }
   },
   "outputs": [],
   "source": [
    "S_inputs = Input(shape=(None,), dtype='int32', name='input')\n",
    "embeddings = Embedding(max_features, 128, name='embedding')(S_inputs)\n",
    "embeddings = Position_Embedding(name='position_embedding')(embeddings)\n",
    "O_seq = Attention(8, 16, name='attention')([embeddings, embeddings, embeddings])\n",
    "O_seq = GlobalMaxPooling1D(name='max_pooling')(O_seq)\n",
    "O_seq = Dropout(0.5, name='dropout')(O_seq)\n",
    "outputs = Dense(6, activation='sigmoid', name='predict')(O_seq)\n",
    "model = Model(inputs=S_inputs, outputs=outputs)"
   ]
  },
  {
   "cell_type": "code",
   "execution_count": 23,
   "metadata": {
    "ExecuteTime": {
     "end_time": "2018-12-10T15:06:58.588624Z",
     "start_time": "2018-12-10T15:06:58.455587Z"
    }
   },
   "outputs": [
    {
     "data": {
      "image/svg+xml": [
       "<svg height=\"483pt\" viewBox=\"0.00 0.00 263.16 483.00\" width=\"263pt\" xmlns=\"http://www.w3.org/2000/svg\" xmlns:xlink=\"http://www.w3.org/1999/xlink\">\n",
       "<g class=\"graph\" id=\"graph0\" transform=\"scale(1 1) rotate(0) translate(4 479)\">\n",
       "<title>G</title>\n",
       "<polygon fill=\"#ffffff\" points=\"-4,4 -4,-479 259.1621,-479 259.1621,4 -4,4\" stroke=\"transparent\"/>\n",
       "<!-- 113426276192 -->\n",
       "<g class=\"node\" id=\"node1\">\n",
       "<title>113426276192</title>\n",
       "<polygon fill=\"none\" points=\"70.3999,-438.5 70.3999,-474.5 184.7622,-474.5 184.7622,-438.5 70.3999,-438.5\" stroke=\"#000000\"/>\n",
       "<text fill=\"#000000\" font-family=\"Times,serif\" font-size=\"14.00\" text-anchor=\"middle\" x=\"127.5811\" y=\"-452.3\">input: InputLayer</text>\n",
       "</g>\n",
       "<!-- 113426276304 -->\n",
       "<g class=\"node\" id=\"node2\">\n",
       "<title>113426276304</title>\n",
       "<polygon fill=\"none\" points=\"52.5103,-365.5 52.5103,-401.5 202.6519,-401.5 202.6519,-365.5 52.5103,-365.5\" stroke=\"#000000\"/>\n",
       "<text fill=\"#000000\" font-family=\"Times,serif\" font-size=\"14.00\" text-anchor=\"middle\" x=\"127.5811\" y=\"-379.3\">embedding: Embedding</text>\n",
       "</g>\n",
       "<!-- 113426276192&#45;&gt;113426276304 -->\n",
       "<g class=\"edge\" id=\"edge1\">\n",
       "<title>113426276192-&gt;113426276304</title>\n",
       "<path d=\"M127.5811,-438.4551C127.5811,-430.3828 127.5811,-420.6764 127.5811,-411.6817\" fill=\"none\" stroke=\"#000000\"/>\n",
       "<polygon fill=\"#000000\" points=\"131.0812,-411.5903 127.5811,-401.5904 124.0812,-411.5904 131.0812,-411.5903\" stroke=\"#000000\"/>\n",
       "</g>\n",
       "<!-- 113426318112 -->\n",
       "<g class=\"node\" id=\"node3\">\n",
       "<title>113426318112</title>\n",
       "<polygon fill=\"none\" points=\"0,-292.5 0,-328.5 255.1621,-328.5 255.1621,-292.5 0,-292.5\" stroke=\"#000000\"/>\n",
       "<text fill=\"#000000\" font-family=\"Times,serif\" font-size=\"14.00\" text-anchor=\"middle\" x=\"127.5811\" y=\"-306.3\">position_embedding: Position_Embedding</text>\n",
       "</g>\n",
       "<!-- 113426276304&#45;&gt;113426318112 -->\n",
       "<g class=\"edge\" id=\"edge2\">\n",
       "<title>113426276304-&gt;113426318112</title>\n",
       "<path d=\"M127.5811,-365.4551C127.5811,-357.3828 127.5811,-347.6764 127.5811,-338.6817\" fill=\"none\" stroke=\"#000000\"/>\n",
       "<polygon fill=\"#000000\" points=\"131.0812,-338.5903 127.5811,-328.5904 124.0812,-338.5904 131.0812,-338.5903\" stroke=\"#000000\"/>\n",
       "</g>\n",
       "<!-- 113426276136 -->\n",
       "<g class=\"node\" id=\"node4\">\n",
       "<title>113426276136</title>\n",
       "<polygon fill=\"none\" points=\"65.3345,-219.5 65.3345,-255.5 189.8276,-255.5 189.8276,-219.5 65.3345,-219.5\" stroke=\"#000000\"/>\n",
       "<text fill=\"#000000\" font-family=\"Times,serif\" font-size=\"14.00\" text-anchor=\"middle\" x=\"127.5811\" y=\"-233.3\">attention: Attention</text>\n",
       "</g>\n",
       "<!-- 113426318112&#45;&gt;113426276136 -->\n",
       "<g class=\"edge\" id=\"edge3\">\n",
       "<title>113426318112-&gt;113426276136</title>\n",
       "<path d=\"M127.5811,-292.4551C127.5811,-284.3828 127.5811,-274.6764 127.5811,-265.6817\" fill=\"none\" stroke=\"#000000\"/>\n",
       "<polygon fill=\"#000000\" points=\"131.0812,-265.5903 127.5811,-255.5904 124.0812,-265.5904 131.0812,-265.5903\" stroke=\"#000000\"/>\n",
       "</g>\n",
       "<!-- 113426317440 -->\n",
       "<g class=\"node\" id=\"node5\">\n",
       "<title>113426317440</title>\n",
       "<polygon fill=\"none\" points=\"16.7241,-146.5 16.7241,-182.5 238.438,-182.5 238.438,-146.5 16.7241,-146.5\" stroke=\"#000000\"/>\n",
       "<text fill=\"#000000\" font-family=\"Times,serif\" font-size=\"14.00\" text-anchor=\"middle\" x=\"127.5811\" y=\"-160.3\">max_pooling: GlobalMaxPooling1D</text>\n",
       "</g>\n",
       "<!-- 113426276136&#45;&gt;113426317440 -->\n",
       "<g class=\"edge\" id=\"edge6\">\n",
       "<title>113426276136-&gt;113426317440</title>\n",
       "<path d=\"M127.5811,-219.4551C127.5811,-211.3828 127.5811,-201.6764 127.5811,-192.6817\" fill=\"none\" stroke=\"#000000\"/>\n",
       "<polygon fill=\"#000000\" points=\"131.0812,-192.5903 127.5811,-182.5904 124.0812,-192.5904 131.0812,-192.5903\" stroke=\"#000000\"/>\n",
       "</g>\n",
       "<!-- 113426317384 -->\n",
       "<g class=\"node\" id=\"node6\">\n",
       "<title>113426317384</title>\n",
       "<polygon fill=\"none\" points=\"70.7793,-73.5 70.7793,-109.5 184.3828,-109.5 184.3828,-73.5 70.7793,-73.5\" stroke=\"#000000\"/>\n",
       "<text fill=\"#000000\" font-family=\"Times,serif\" font-size=\"14.00\" text-anchor=\"middle\" x=\"127.5811\" y=\"-87.3\">dropout: Dropout</text>\n",
       "</g>\n",
       "<!-- 113426317440&#45;&gt;113426317384 -->\n",
       "<g class=\"edge\" id=\"edge7\">\n",
       "<title>113426317440-&gt;113426317384</title>\n",
       "<path d=\"M127.5811,-146.4551C127.5811,-138.3828 127.5811,-128.6764 127.5811,-119.6817\" fill=\"none\" stroke=\"#000000\"/>\n",
       "<polygon fill=\"#000000\" points=\"131.0812,-119.5903 127.5811,-109.5904 124.0812,-119.5904 131.0812,-119.5903\" stroke=\"#000000\"/>\n",
       "</g>\n",
       "<!-- 113426317888 -->\n",
       "<g class=\"node\" id=\"node7\">\n",
       "<title>113426317888</title>\n",
       "<polygon fill=\"none\" points=\"78.9585,-.5 78.9585,-36.5 176.2036,-36.5 176.2036,-.5 78.9585,-.5\" stroke=\"#000000\"/>\n",
       "<text fill=\"#000000\" font-family=\"Times,serif\" font-size=\"14.00\" text-anchor=\"middle\" x=\"127.5811\" y=\"-14.3\">predict: Dense</text>\n",
       "</g>\n",
       "<!-- 113426317384&#45;&gt;113426317888 -->\n",
       "<g class=\"edge\" id=\"edge8\">\n",
       "<title>113426317384-&gt;113426317888</title>\n",
       "<path d=\"M127.5811,-73.4551C127.5811,-65.3828 127.5811,-55.6764 127.5811,-46.6817\" fill=\"none\" stroke=\"#000000\"/>\n",
       "<polygon fill=\"#000000\" points=\"131.0812,-46.5903 127.5811,-36.5904 124.0812,-46.5904 131.0812,-46.5903\" stroke=\"#000000\"/>\n",
       "</g>\n",
       "</g>\n",
       "</svg>"
      ],
      "text/plain": [
       "<IPython.core.display.SVG object>"
      ]
     },
     "execution_count": 23,
     "metadata": {},
     "output_type": "execute_result"
    }
   ],
   "source": [
    "from IPython.display import SVG\n",
    "from keras.utils.vis_utils import model_to_dot\n",
    "\n",
    "SVG(model_to_dot(model).create(prog='dot', format='svg'))"
   ]
  },
  {
   "cell_type": "code",
   "execution_count": 24,
   "metadata": {
    "ExecuteTime": {
     "end_time": "2018-12-10T15:07:10.238298Z",
     "start_time": "2018-12-10T15:07:10.166339Z"
    }
   },
   "outputs": [],
   "source": [
    "model.compile(\n",
    "    loss='binary_crossentropy', optimizer='adam', metrics=['accuracy'])"
   ]
  },
  {
   "cell_type": "code",
   "execution_count": 17,
   "metadata": {
    "ExecuteTime": {
     "end_time": "2018-12-10T14:58:22.174155Z",
     "start_time": "2018-12-10T14:58:22.168443Z"
    }
   },
   "outputs": [
    {
     "name": "stdout",
     "output_type": "stream",
     "text": [
      "__________________________________________________________________________________________________\n",
      "Layer (type)                    Output Shape         Param #     Connected to                     \n",
      "==================================================================================================\n",
      "input_1 (InputLayer)            (None, None)         0                                            \n",
      "__________________________________________________________________________________________________\n",
      "embedding_1 (Embedding)         (None, None, 128)    3840000     input_1[0][0]                    \n",
      "__________________________________________________________________________________________________\n",
      "position__embedding_1 (Position (None, None, 128)    0           embedding_1[0][0]                \n",
      "__________________________________________________________________________________________________\n",
      "attention_1 (Attention)         (None, None, 128)    49152       position__embedding_1[0][0]      \n",
      "                                                                 position__embedding_1[0][0]      \n",
      "                                                                 position__embedding_1[0][0]      \n",
      "__________________________________________________________________________________________________\n",
      "global_max_pooling1d_1 (GlobalM (None, 128)          0           attention_1[0][0]                \n",
      "__________________________________________________________________________________________________\n",
      "dropout_1 (Dropout)             (None, 128)          0           global_max_pooling1d_1[0][0]     \n",
      "__________________________________________________________________________________________________\n",
      "dense_1 (Dense)                 (None, 6)            774         dropout_1[0][0]                  \n",
      "==================================================================================================\n",
      "Total params: 3,889,926\n",
      "Trainable params: 3,889,926\n",
      "Non-trainable params: 0\n",
      "__________________________________________________________________________________________________\n"
     ]
    }
   ],
   "source": [
    "model.summary()"
   ]
  },
  {
   "cell_type": "code",
   "execution_count": 18,
   "metadata": {
    "ExecuteTime": {
     "end_time": "2018-12-10T14:58:22.311947Z",
     "start_time": "2018-12-10T14:58:22.176996Z"
    }
   },
   "outputs": [],
   "source": [
    "from sklearn.model_selection import train_test_split\n",
    "X_tra, X_val, y_tra, y_val = train_test_split(\n",
    "    x_train, y_train, test_size=0.3, random_state=233)\n",
    "roc_auc = RocAucEvaluation(validation_data=(X_val, y_val), interval=1)"
   ]
  },
  {
   "cell_type": "code",
   "execution_count": 21,
   "metadata": {
    "ExecuteTime": {
     "end_time": "2018-12-10T15:01:01.424920Z",
     "start_time": "2018-12-10T15:00:49.231487Z"
    }
   },
   "outputs": [
    {
     "name": "stdout",
     "output_type": "stream",
     "text": [
      "Train on 111699 samples, validate on 47872 samples\n",
      "Epoch 1/100\n",
      "  1536/111699 [..............................] - ETA: 13:00 - loss: 0.2412 - acc: 0.9173"
     ]
    },
    {
     "ename": "KeyboardInterrupt",
     "evalue": "",
     "output_type": "error",
     "traceback": [
      "\u001b[0;31m---------------------------------------------------------------------------\u001b[0m",
      "\u001b[0;31mKeyboardInterrupt\u001b[0m                         Traceback (most recent call last)",
      "\u001b[0;32m<ipython-input-21-b726b650032c>\u001b[0m in \u001b[0;36m<module>\u001b[0;34m\u001b[0m\n\u001b[1;32m      5\u001b[0m     \u001b[0mbatch_size\u001b[0m\u001b[0;34m=\u001b[0m\u001b[0;36m32\u001b[0m\u001b[0;34m,\u001b[0m\u001b[0;34m\u001b[0m\u001b[0;34m\u001b[0m\u001b[0m\n\u001b[1;32m      6\u001b[0m     \u001b[0mepochs\u001b[0m\u001b[0;34m=\u001b[0m\u001b[0;36m100\u001b[0m\u001b[0;34m,\u001b[0m\u001b[0;34m\u001b[0m\u001b[0;34m\u001b[0m\u001b[0m\n\u001b[0;32m----> 7\u001b[0;31m     validation_data=(X_val, y_val))\n\u001b[0m",
      "\u001b[0;32m~/.pyenv/versions/miniconda3-4.3.30/envs/toxic/lib/python3.6/site-packages/keras/engine/training.py\u001b[0m in \u001b[0;36mfit\u001b[0;34m(self, x, y, batch_size, epochs, verbose, callbacks, validation_split, validation_data, shuffle, class_weight, sample_weight, initial_epoch, steps_per_epoch, validation_steps, **kwargs)\u001b[0m\n\u001b[1;32m   1037\u001b[0m                                         \u001b[0minitial_epoch\u001b[0m\u001b[0;34m=\u001b[0m\u001b[0minitial_epoch\u001b[0m\u001b[0;34m,\u001b[0m\u001b[0;34m\u001b[0m\u001b[0;34m\u001b[0m\u001b[0m\n\u001b[1;32m   1038\u001b[0m                                         \u001b[0msteps_per_epoch\u001b[0m\u001b[0;34m=\u001b[0m\u001b[0msteps_per_epoch\u001b[0m\u001b[0;34m,\u001b[0m\u001b[0;34m\u001b[0m\u001b[0;34m\u001b[0m\u001b[0m\n\u001b[0;32m-> 1039\u001b[0;31m                                         validation_steps=validation_steps)\n\u001b[0m\u001b[1;32m   1040\u001b[0m \u001b[0;34m\u001b[0m\u001b[0m\n\u001b[1;32m   1041\u001b[0m     def evaluate(self, x=None, y=None,\n",
      "\u001b[0;32m~/.pyenv/versions/miniconda3-4.3.30/envs/toxic/lib/python3.6/site-packages/keras/engine/training_arrays.py\u001b[0m in \u001b[0;36mfit_loop\u001b[0;34m(model, f, ins, out_labels, batch_size, epochs, verbose, callbacks, val_f, val_ins, shuffle, callback_metrics, initial_epoch, steps_per_epoch, validation_steps)\u001b[0m\n\u001b[1;32m    197\u001b[0m                     \u001b[0mins_batch\u001b[0m\u001b[0;34m[\u001b[0m\u001b[0mi\u001b[0m\u001b[0;34m]\u001b[0m \u001b[0;34m=\u001b[0m \u001b[0mins_batch\u001b[0m\u001b[0;34m[\u001b[0m\u001b[0mi\u001b[0m\u001b[0;34m]\u001b[0m\u001b[0;34m.\u001b[0m\u001b[0mtoarray\u001b[0m\u001b[0;34m(\u001b[0m\u001b[0;34m)\u001b[0m\u001b[0;34m\u001b[0m\u001b[0;34m\u001b[0m\u001b[0m\n\u001b[1;32m    198\u001b[0m \u001b[0;34m\u001b[0m\u001b[0m\n\u001b[0;32m--> 199\u001b[0;31m                 \u001b[0mouts\u001b[0m \u001b[0;34m=\u001b[0m \u001b[0mf\u001b[0m\u001b[0;34m(\u001b[0m\u001b[0mins_batch\u001b[0m\u001b[0;34m)\u001b[0m\u001b[0;34m\u001b[0m\u001b[0;34m\u001b[0m\u001b[0m\n\u001b[0m\u001b[1;32m    200\u001b[0m                 \u001b[0mouts\u001b[0m \u001b[0;34m=\u001b[0m \u001b[0mto_list\u001b[0m\u001b[0;34m(\u001b[0m\u001b[0mouts\u001b[0m\u001b[0;34m)\u001b[0m\u001b[0;34m\u001b[0m\u001b[0;34m\u001b[0m\u001b[0m\n\u001b[1;32m    201\u001b[0m                 \u001b[0;32mfor\u001b[0m \u001b[0ml\u001b[0m\u001b[0;34m,\u001b[0m \u001b[0mo\u001b[0m \u001b[0;32min\u001b[0m \u001b[0mzip\u001b[0m\u001b[0;34m(\u001b[0m\u001b[0mout_labels\u001b[0m\u001b[0;34m,\u001b[0m \u001b[0mouts\u001b[0m\u001b[0;34m)\u001b[0m\u001b[0;34m:\u001b[0m\u001b[0;34m\u001b[0m\u001b[0;34m\u001b[0m\u001b[0m\n",
      "\u001b[0;32m~/.pyenv/versions/miniconda3-4.3.30/envs/toxic/lib/python3.6/site-packages/keras/backend/tensorflow_backend.py\u001b[0m in \u001b[0;36m__call__\u001b[0;34m(self, inputs)\u001b[0m\n\u001b[1;32m   2713\u001b[0m                 \u001b[0;32mreturn\u001b[0m \u001b[0mself\u001b[0m\u001b[0;34m.\u001b[0m\u001b[0m_legacy_call\u001b[0m\u001b[0;34m(\u001b[0m\u001b[0minputs\u001b[0m\u001b[0;34m)\u001b[0m\u001b[0;34m\u001b[0m\u001b[0;34m\u001b[0m\u001b[0m\n\u001b[1;32m   2714\u001b[0m \u001b[0;34m\u001b[0m\u001b[0m\n\u001b[0;32m-> 2715\u001b[0;31m             \u001b[0;32mreturn\u001b[0m \u001b[0mself\u001b[0m\u001b[0;34m.\u001b[0m\u001b[0m_call\u001b[0m\u001b[0;34m(\u001b[0m\u001b[0minputs\u001b[0m\u001b[0;34m)\u001b[0m\u001b[0;34m\u001b[0m\u001b[0;34m\u001b[0m\u001b[0m\n\u001b[0m\u001b[1;32m   2716\u001b[0m         \u001b[0;32melse\u001b[0m\u001b[0;34m:\u001b[0m\u001b[0;34m\u001b[0m\u001b[0;34m\u001b[0m\u001b[0m\n\u001b[1;32m   2717\u001b[0m             \u001b[0;32mif\u001b[0m \u001b[0mpy_any\u001b[0m\u001b[0;34m(\u001b[0m\u001b[0mis_tensor\u001b[0m\u001b[0;34m(\u001b[0m\u001b[0mx\u001b[0m\u001b[0;34m)\u001b[0m \u001b[0;32mfor\u001b[0m \u001b[0mx\u001b[0m \u001b[0;32min\u001b[0m \u001b[0minputs\u001b[0m\u001b[0;34m)\u001b[0m\u001b[0;34m:\u001b[0m\u001b[0;34m\u001b[0m\u001b[0;34m\u001b[0m\u001b[0m\n",
      "\u001b[0;32m~/.pyenv/versions/miniconda3-4.3.30/envs/toxic/lib/python3.6/site-packages/keras/backend/tensorflow_backend.py\u001b[0m in \u001b[0;36m_call\u001b[0;34m(self, inputs)\u001b[0m\n\u001b[1;32m   2673\u001b[0m             \u001b[0mfetched\u001b[0m \u001b[0;34m=\u001b[0m \u001b[0mself\u001b[0m\u001b[0;34m.\u001b[0m\u001b[0m_callable_fn\u001b[0m\u001b[0;34m(\u001b[0m\u001b[0;34m*\u001b[0m\u001b[0marray_vals\u001b[0m\u001b[0;34m,\u001b[0m \u001b[0mrun_metadata\u001b[0m\u001b[0;34m=\u001b[0m\u001b[0mself\u001b[0m\u001b[0;34m.\u001b[0m\u001b[0mrun_metadata\u001b[0m\u001b[0;34m)\u001b[0m\u001b[0;34m\u001b[0m\u001b[0;34m\u001b[0m\u001b[0m\n\u001b[1;32m   2674\u001b[0m         \u001b[0;32melse\u001b[0m\u001b[0;34m:\u001b[0m\u001b[0;34m\u001b[0m\u001b[0;34m\u001b[0m\u001b[0m\n\u001b[0;32m-> 2675\u001b[0;31m             \u001b[0mfetched\u001b[0m \u001b[0;34m=\u001b[0m \u001b[0mself\u001b[0m\u001b[0;34m.\u001b[0m\u001b[0m_callable_fn\u001b[0m\u001b[0;34m(\u001b[0m\u001b[0;34m*\u001b[0m\u001b[0marray_vals\u001b[0m\u001b[0;34m)\u001b[0m\u001b[0;34m\u001b[0m\u001b[0;34m\u001b[0m\u001b[0m\n\u001b[0m\u001b[1;32m   2676\u001b[0m         \u001b[0;32mreturn\u001b[0m \u001b[0mfetched\u001b[0m\u001b[0;34m[\u001b[0m\u001b[0;34m:\u001b[0m\u001b[0mlen\u001b[0m\u001b[0;34m(\u001b[0m\u001b[0mself\u001b[0m\u001b[0;34m.\u001b[0m\u001b[0moutputs\u001b[0m\u001b[0;34m)\u001b[0m\u001b[0;34m]\u001b[0m\u001b[0;34m\u001b[0m\u001b[0;34m\u001b[0m\u001b[0m\n\u001b[1;32m   2677\u001b[0m \u001b[0;34m\u001b[0m\u001b[0m\n",
      "\u001b[0;32m~/.pyenv/versions/miniconda3-4.3.30/envs/toxic/lib/python3.6/site-packages/tensorflow/python/client/session.py\u001b[0m in \u001b[0;36m__call__\u001b[0;34m(self, *args, **kwargs)\u001b[0m\n\u001b[1;32m   1437\u001b[0m           ret = tf_session.TF_SessionRunCallable(\n\u001b[1;32m   1438\u001b[0m               \u001b[0mself\u001b[0m\u001b[0;34m.\u001b[0m\u001b[0m_session\u001b[0m\u001b[0;34m.\u001b[0m\u001b[0m_session\u001b[0m\u001b[0;34m,\u001b[0m \u001b[0mself\u001b[0m\u001b[0;34m.\u001b[0m\u001b[0m_handle\u001b[0m\u001b[0;34m,\u001b[0m \u001b[0margs\u001b[0m\u001b[0;34m,\u001b[0m \u001b[0mstatus\u001b[0m\u001b[0;34m,\u001b[0m\u001b[0;34m\u001b[0m\u001b[0;34m\u001b[0m\u001b[0m\n\u001b[0;32m-> 1439\u001b[0;31m               run_metadata_ptr)\n\u001b[0m\u001b[1;32m   1440\u001b[0m         \u001b[0;32mif\u001b[0m \u001b[0mrun_metadata\u001b[0m\u001b[0;34m:\u001b[0m\u001b[0;34m\u001b[0m\u001b[0;34m\u001b[0m\u001b[0m\n\u001b[1;32m   1441\u001b[0m           \u001b[0mproto_data\u001b[0m \u001b[0;34m=\u001b[0m \u001b[0mtf_session\u001b[0m\u001b[0;34m.\u001b[0m\u001b[0mTF_GetBuffer\u001b[0m\u001b[0;34m(\u001b[0m\u001b[0mrun_metadata_ptr\u001b[0m\u001b[0;34m)\u001b[0m\u001b[0;34m\u001b[0m\u001b[0;34m\u001b[0m\u001b[0m\n",
      "\u001b[0;31mKeyboardInterrupt\u001b[0m: "
     ]
    }
   ],
   "source": [
    "hist = model.fit(\n",
    "    X_tra,\n",
    "    y_tra,\n",
    "    callbacks=[EarlyStopping(patience=5), roc_auc],\n",
    "    batch_size=32,\n",
    "    epochs=100,\n",
    "    validation_data=(X_val, y_val))"
   ]
  },
  {
   "cell_type": "code",
   "execution_count": null,
   "metadata": {},
   "outputs": [],
   "source": [
    "import matplotlib.pyplot as plt\n",
    "\n",
    "# Plot training & validation accuracy values\n",
    "plt.plot(hist.history['acc'])\n",
    "plt.plot(hist.history['val_acc'])\n",
    "plt.title('Model accuracy')\n",
    "plt.ylabel('Accuracy')\n",
    "plt.xlabel('Epoch')\n",
    "plt.legend(['Train', 'Test'], loc='upper left')\n",
    "plt.show()\n",
    "\n",
    "# Plot training & validation loss values\n",
    "plt.plot(hist.history['loss'])\n",
    "plt.plot(hist.history['val_loss'])\n",
    "plt.title('Model loss')\n",
    "plt.ylabel('Loss')\n",
    "plt.xlabel('Epoch')\n",
    "plt.legend(['Train', 'Test'], loc='upper left')\n",
    "plt.show()"
   ]
  },
  {
   "cell_type": "code",
   "execution_count": null,
   "metadata": {},
   "outputs": [],
   "source": [
    "y_pred = model.predict(x_test, batch_size=1024)\n",
    "\n",
    "submission = pd.read_csv('../input/sample_submission.csv')\n",
    "submission[target_cols] = y_pred\n",
    "submission.to_csv('submission.csv', index=False)"
   ]
  }
 ],
 "metadata": {
  "kernelspec": {
   "display_name": "Python 3",
   "language": "python",
   "name": "python3"
  },
  "language_info": {
   "codemirror_mode": {
    "name": "ipython",
    "version": 3
   },
   "file_extension": ".py",
   "mimetype": "text/x-python",
   "name": "python",
   "nbconvert_exporter": "python",
   "pygments_lexer": "ipython3",
   "version": "3.6.7"
  }
 },
 "nbformat": 4,
 "nbformat_minor": 2
}
